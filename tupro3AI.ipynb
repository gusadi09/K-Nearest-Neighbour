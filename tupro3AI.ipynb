{
  "nbformat": 4,
  "nbformat_minor": 0,
  "metadata": {
    "colab": {
      "name": "tupro3AI.ipynb",
      "provenance": [],
      "collapsed_sections": [],
      "authorship_tag": "ABX9TyOegeiltahbiM2go8LEIR+a",
      "include_colab_link": true
    },
    "kernelspec": {
      "display_name": "Python 3",
      "name": "python3"
    }
  },
  "cells": [
    {
      "cell_type": "markdown",
      "metadata": {
        "id": "view-in-github",
        "colab_type": "text"
      },
      "source": [
        "<a href=\"https://colab.research.google.com/github/gusadi09/K-Nearest-Neighbour/blob/main/tupro3AI.ipynb\" target=\"_parent\"><img src=\"https://colab.research.google.com/assets/colab-badge.svg\" alt=\"Open In Colab\"/></a>"
      ]
    },
    {
      "cell_type": "code",
      "metadata": {
        "id": "4JlAOZc7nFxw"
      },
      "source": [
        "import pandas as pd\r\n",
        "from sklearn.preprocessing import MinMaxScaler\r\n",
        "from sklearn.preprocessing import StandardScaler\r\n",
        "import numpy as np\r\n",
        "from collections import Counter\r\n",
        "import math"
      ],
      "execution_count": null,
      "outputs": []
    },
    {
      "cell_type": "code",
      "metadata": {
        "id": "8yudTDS0nKoV"
      },
      "source": [
        "df = pd.read_csv('Diabetes.csv')"
      ],
      "execution_count": null,
      "outputs": []
    },
    {
      "cell_type": "code",
      "metadata": {
        "id": "jjPhP_qrnOuk"
      },
      "source": [
        "def scaling(data) :\r\n",
        "    scale = MinMaxScaler(feature_range=(0, 1))\r\n",
        "    \r\n",
        "    data_scale = scale.fit_transform(data)\r\n",
        "    \r\n",
        "    normalisasi = pd.DataFrame(data_scale)\r\n",
        "    normalisasi = normalisasi.rename(columns={0:'Pregnancies',1:'Glucose', 2:'BloodPressure',3:'SkinThickness', 4:'Insulin',5:'BMI', 6:'DiabetesPedigreeFunction',7:'Age', 8:'Outcome'})\r\n",
        "  \r\n",
        "    return normalisasi"
      ],
      "execution_count": null,
      "outputs": []
    },
    {
      "cell_type": "code",
      "metadata": {
        "id": "2tX_ztMKnhE8"
      },
      "source": [
        "#Data Train dan Data Test\r\n",
        "\r\n",
        "def preProccesSplit(dataFrame, range_train1, range_train2, range_test1, range_test2) :\r\n",
        "  dt = scaling(dataFrame)\r\n",
        "  train1 = dt.iloc[range_train1:range_train2]\r\n",
        "  test1 = dt.iloc[range_test1:range_test2]\r\n",
        "\r\n",
        "  return train1, test1\r\n",
        "\r\n",
        "def preProcesSplitConcat(dataFrame, range_train1_1, range_train1_2, range_train2_1, range_train2_2, range_test1, range_test2) :\r\n",
        "  dt = scaling(dataFrame)\r\n",
        "  train1_1 = dt.iloc[range_train1_1:range_train1_2]\r\n",
        "  train1_2 = dt.iloc[range_train2_1:range_train2_2]\r\n",
        "  train1 = pd.concat([train1_1, train1_2])\r\n",
        "  test1 = dt.iloc[range_test1:range_test2]\r\n",
        "\r\n",
        "  return train1, test1"
      ],
      "execution_count": null,
      "outputs": []
    },
    {
      "cell_type": "code",
      "metadata": {
        "id": "CJ2nCm-qs6E0"
      },
      "source": [
        "def euclideanDst(dt_train, dt_tes) :\r\n",
        "  n1 = dt_train[0] - dt_tes[0]\r\n",
        "  n2 = dt_train[1] - dt_tes[1]\r\n",
        "  n3 = dt_train[2] - dt_tes[2]\r\n",
        "  n4 = dt_train[3] - dt_tes[3]\r\n",
        "  n5 = dt_train[4] - dt_tes[4]\r\n",
        "\r\n",
        "  a = np.hypot(n1, n2)\r\n",
        "  b = np.hypot(n3, n4)\r\n",
        "  c = np.hypot(a, b)\r\n",
        "\r\n",
        "  return np.hypot(c, n5)"
      ],
      "execution_count": null,
      "outputs": []
    },
    {
      "cell_type": "code",
      "metadata": {
        "id": "GSz50YlW9chl"
      },
      "source": [
        "def neighborDst(dt_train, dt_test) :\r\n",
        "  tVal = []\r\n",
        "  temp = []\r\n",
        "\r\n",
        "  for i in range(0, len(dt_test)) :\r\n",
        "    for j in range(0, len(dt_train)) :\r\n",
        "      temp.append([euclideanDst(dt_train[j], dt_test[i]), dt_train[j][8]])\r\n",
        "    tVal.append(temp)\r\n",
        "    temp = []\r\n",
        "\r\n",
        "  return tVal"
      ],
      "execution_count": null,
      "outputs": []
    },
    {
      "cell_type": "code",
      "metadata": {
        "id": "P2tjiiAM_d7E"
      },
      "source": [
        "def knn(neighbor, k) :\r\n",
        "  temp = []\r\n",
        "  kn = []\r\n",
        "\r\n",
        "  def indexSort(dt) :\r\n",
        "    return dt[0]\r\n",
        "  \r\n",
        "  for i in range(len(neighbor)) :\r\n",
        "    neighbor[i].sort(key = indexSort)\r\n",
        "\r\n",
        "  for i in range(len(neighbor)) :\r\n",
        "    for j in range(0, k) :\r\n",
        "      temp.append(neighbor[i][j])\r\n",
        "    kn.append(temp)\r\n",
        "    temp = []\r\n",
        "\r\n",
        "  return kn"
      ],
      "execution_count": null,
      "outputs": []
    },
    {
      "cell_type": "code",
      "metadata": {
        "id": "noQQV5EKAgRT"
      },
      "source": [
        "def prediksi(test, train, k) :\r\n",
        "  dst = neighborDst(train, test)\r\n",
        "  nearNeighbor = knn(dst, k)\r\n",
        "\r\n",
        "  nearNeighborVal = []\r\n",
        "  tmp = []\r\n",
        "\r\n",
        "  for i in range(len(nearNeighbor)) :\r\n",
        "    for j in range(len(nearNeighbor[i])) :\r\n",
        "      tmp.append(nearNeighbor[i][j][1])\r\n",
        "    nearNeighborVal.append(tmp)\r\n",
        "    tmp = []\r\n",
        "\r\n",
        "  result = []\r\n",
        "\r\n",
        "  for i in range(len(nearNeighborVal)) :\r\n",
        "    data = Counter(nearNeighborVal[i])\r\n",
        "    result.append(data.most_common(1)[0][0])\r\n",
        "  \r\n",
        "  return result"
      ],
      "execution_count": null,
      "outputs": []
    },
    {
      "cell_type": "code",
      "metadata": {
        "id": "cKsIE7mUEdeS"
      },
      "source": [
        "def hitAkurasi(dt_tes, prediksi) :\r\n",
        "  tst_set = dt_tes['Outcome'].values.tolist()\r\n",
        "  correct = 0\r\n",
        "\r\n",
        "  for i in range(len(prediksi)) :\r\n",
        "    if tst_set[i] == prediksi[i] :\r\n",
        "      correct += 1\r\n",
        "  \r\n",
        "  hasil = (correct/float(len(tst_set))) * 100.0\r\n",
        "\r\n",
        "  return hasil"
      ],
      "execution_count": null,
      "outputs": []
    },
    {
      "cell_type": "code",
      "metadata": {
        "id": "Q1tuBwHBq2d1"
      },
      "source": [
        "def foldVal(dt_tes, dt_train) :\r\n",
        "  x = dt_train.to_numpy()\r\n",
        "  y = dt_tes.to_numpy()\r\n",
        "\r\n",
        "  k = []\r\n",
        "\r\n",
        "  for i in range(len(y)) :\r\n",
        "    k.append(hitAkurasi(dt_tes, prediksi(y, x, i+1)))\r\n",
        "\r\n",
        "  return [k.index(max(k)), max(k)]"
      ],
      "execution_count": null,
      "outputs": []
    },
    {
      "cell_type": "code",
      "metadata": {
        "id": "S_Ajgxu3SK_M"
      },
      "source": [
        "def rataRata(val1, val2, val3, val4, val5) :\n",
        "  rata_rata = (CrossVal1[1] + CrossVal2[1] + CrossVal3[1] + CrossVal4[1] + CrossVal5[1]) / 5\n",
        "  return rata_rata"
      ],
      "execution_count": null,
      "outputs": []
    },
    {
      "cell_type": "markdown",
      "metadata": {
        "id": "Otl7VqExsAP0"
      },
      "source": [
        "Main Program"
      ]
    },
    {
      "cell_type": "code",
      "metadata": {
        "colab": {
          "base_uri": "https://localhost:8080/"
        },
        "id": "04nreoheUD2g",
        "outputId": "c8b8d4bd-48d0-4c2d-9f0a-e3fd9c1bdbfd"
      },
      "source": [
        "#data test dan train 1\r\n",
        "train1, tst1 = preProccesSplit(df, 0, 613, 614, 767)\r\n",
        "CrossVal1 = foldVal(tst1, train1)\r\n",
        "print(\"Data Test 1 dan Data Train 1\")\r\n",
        "print(\"K : \",CrossVal1[0],\", Accuracy : \", CrossVal1[1])\r\n",
        "print(\"========================================================================\")\r\n",
        "print()\r\n",
        "\r\n",
        "#data test dan train 2\r\n",
        "train2, tst2 = preProcesSplitConcat(df, 0, 460, 614, 767, 461, 640)\r\n",
        "CrossVal2 = foldVal(tst2, train2)\r\n",
        "print(\"Data Test 2 dan Data Train 2\")\r\n",
        "print(\"K : \",CrossVal2[0],\", Accuracy : \", CrossVal2[1])\r\n",
        "print(\"========================================================================\")\r\n",
        "print()\r\n",
        "\r\n",
        "#data test dan train 3\r\n",
        "train3, tst3 = preProcesSplitConcat(df, 0, 306, 461, 767, 307, 460)\r\n",
        "CrossVal3 = foldVal(tst3, train3)\r\n",
        "print(\"Data Test 3 dan Data Train 3\")\r\n",
        "print(\"K : \",CrossVal3[0],\", Accuracy : \", CrossVal3[1])\r\n",
        "print(\"========================================================================\")\r\n",
        "print()\r\n",
        "\r\n",
        "#data test dan train 4\r\n",
        "train4, tst4 = preProcesSplitConcat(df, 0, 153, 307, 767, 154, 306)\r\n",
        "CrossVal4 = foldVal(tst4, train4)\r\n",
        "print(\"Data Test 4 dan Data Train 4\")\r\n",
        "print(\"K : \",CrossVal4[0],\", Accuracy : \", CrossVal4[1])\r\n",
        "print(\"========================================================================\")\r\n",
        "print()\r\n",
        "\r\n",
        "#data test dan train 5\r\n",
        "train5, tst5 = preProccesSplit(df, 154, 767, 0, 153)\r\n",
        "CrossVal5 = foldVal(tst5, train5)\r\n",
        "print(\"Data Test 5 dan Data Train 5\")\r\n",
        "print(\"K : \",CrossVal5[0],\", Accuracy : \", CrossVal5[1])\r\n",
        "print(\"========================================================================\")\r\n",
        "print()\r\n",
        "\r\n",
        "r = rataRata(CrossVal1[0], CrossVal2[0], CrossVal3[0], CrossVal4[0], CrossVal5[0])\r\n",
        "print(\"Rata-rata akurasi kNN : \", r)"
      ],
      "execution_count": null,
      "outputs": [
        {
          "output_type": "stream",
          "text": [
            "Data Test 1 dan Data Train 1\n",
            "K :  27 , Accuracy :  75.81699346405229\n",
            "========================================================================\n",
            "\n",
            "Data Test 2 dan Data Train 2\n",
            "K :  18 , Accuracy :  83.79888268156425\n",
            "========================================================================\n",
            "\n",
            "Data Test 3 dan Data Train 3\n",
            "K :  59 , Accuracy :  75.81699346405229\n",
            "========================================================================\n",
            "\n",
            "Data Test 4 dan Data Train 4\n",
            "K :  2 , Accuracy :  68.42105263157895\n",
            "========================================================================\n",
            "\n",
            "Data Test 5 dan Data Train 5\n",
            "K :  7 , Accuracy :  78.43137254901961\n",
            "========================================================================\n",
            "\n",
            "Rata-rata akurasi kNN :  76.45705895805348\n"
          ],
          "name": "stdout"
        }
      ]
    }
  ]
}